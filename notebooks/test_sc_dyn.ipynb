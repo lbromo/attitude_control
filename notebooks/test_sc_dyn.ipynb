{
 "cells": [
  {
   "cell_type": "code",
   "execution_count": null,
   "metadata": {},
   "outputs": [],
   "source": [
    "using DrWatson\n",
    "@quickactivate \"Attitude Control\""
   ]
  },
  {
   "cell_type": "code",
   "execution_count": null,
   "metadata": {},
   "outputs": [],
   "source": [
    "include(\"../src/dynamics.jl\")\n",
    "using Plots\n",
    "using LinearAlgebra\n",
    "using DiffEqCallbacks"
   ]
  },
  {
   "cell_type": "code",
   "execution_count": null,
   "metadata": {},
   "outputs": [],
   "source": [
    "function state_feedback(int)\n",
    "    # Disregard the real part of the quaternion\n",
    "    x = int.u[2:7]\n",
    "    \n",
    "    # Negative state feedback\n",
    "    K = -1e-3*[I(3) I(3)] \n",
    "    \n",
    "    #Control output -- assuming some actuator without momentum buildup\n",
    "    int.p.u = K*x\n",
    "end"
   ]
  },
  {
   "cell_type": "code",
   "execution_count": null,
   "metadata": {},
   "outputs": [],
   "source": [
    "q0 = randn(4); q0 = q0 / norm(q0);\n",
    "ω0 = randn(3); ω0 = ω0 / norm(ω0) * deg2rad(1);\n",
    "\n",
    "J = [0.2 0.0 0.0; 0.0 0.2 0.0; 0.0 0.0 0.4]\n",
    "x0 = [q0; ω0]\n",
    "sol = SpacecraftModel.run_simulation(x0, J, 1500, PeriodicCallback(state_feedback, 1));"
   ]
  },
  {
   "cell_type": "code",
   "execution_count": null,
   "metadata": {},
   "outputs": [],
   "source": [
    "plot(sol, vars=(1:4))"
   ]
  },
  {
   "cell_type": "code",
   "execution_count": null,
   "metadata": {},
   "outputs": [],
   "source": [
    "plot(sol, vars=(5:7))"
   ]
  },
  {
   "cell_type": "code",
   "execution_count": null,
   "metadata": {},
   "outputs": [],
   "source": []
  }
 ],
 "metadata": {
  "kernelspec": {
   "display_name": "Julia 1.6.0",
   "language": "julia",
   "name": "julia-1.6"
  },
  "language_info": {
   "file_extension": ".jl",
   "mimetype": "application/julia",
   "name": "julia",
   "version": "1.6.0"
  }
 },
 "nbformat": 4,
 "nbformat_minor": 4
}
