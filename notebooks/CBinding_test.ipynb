{
 "cells": [
  {
   "cell_type": "code",
   "execution_count": 1,
   "metadata": {},
   "outputs": [],
   "source": [
    "using DrWatson\n",
    "@quickactivate \"Attitude Control\""
   ]
  },
  {
   "cell_type": "code",
   "execution_count": 2,
   "metadata": {},
   "outputs": [],
   "source": [
    "using CBinding"
   ]
  },
  {
   "cell_type": "code",
   "execution_count": 3,
   "metadata": {},
   "outputs": [],
   "source": [
    "LD_PATH = [\n",
    "    \"../build/\",\n",
    "]\n",
    "\n",
    "INC_PATH = [\n",
    "    \"../lib/libutil/include/\",\n",
    "    \"../lib/libadcs/include/\",\n",
    "    \"../lib/libadcs/lib/libadcs_client/include\",\n",
    "]\n",
    "\n",
    "LD_PATH = map(p -> \"-L\"*p, LD_PATH)\n",
    "INC_PATH = map(i -> \"-I\"*i, INC_PATH)\n",
    "LIB = \"shadcs\";"
   ]
  },
  {
   "cell_type": "code",
   "execution_count": null,
   "metadata": {},
   "outputs": [],
   "source": [
    "## C environment\n",
    "c`$(INC_PATH) $(LD_PATH) -l$(LIB)`"
   ]
  },
  {
   "cell_type": "code",
   "execution_count": null,
   "metadata": {},
   "outputs": [],
   "source": [
    "# Define stdint sizes\n",
    "const c\"int8_t\"  = Int8\n",
    "const c\"uint8_t\"  = UInt8\n",
    "\n",
    "const c\"int16_t\"  = Int16\n",
    "const c\"uint16_t\"  = UInt16\n",
    "\n",
    "const c\"int32_t\"  = Int32\n",
    "const c\"uint32_t\" = UInt32\n",
    "\n",
    "const c\"int64_t\"  = Int64\n",
    "const c\"uint64_t\" = UInt64;"
   ]
  },
  {
   "cell_type": "code",
   "execution_count": null,
   "metadata": {},
   "outputs": [],
   "source": [
    "# Setup includes\n",
    "\n",
    "# Don't konw why these are needed, but for some reason, they are :S\n",
    "c\"\"\"\n",
    "#include <gs/adcs/param/host/sensor_fss.h>\n",
    "\n",
    "#include <gs/adcs/param/host/gnc_common.h>\n",
    "#include <gs/adcs/param/host/gnc_ads.h>\n",
    "#include <gs/adcs/param/host/gnc_ctrl_pointing.h>\n",
    "#include <gs/adcs/param/host/gnc_ctrl_spin.h>\n",
    "\"\"\"\n",
    "\n",
    "c\"\"\"\n",
    "#include <gs/adcs/adcs_param_types.h>\n",
    "#include <gs/adcs/adcs_telem_types.h>\n",
    "\n",
    "#include <gs/adcs/acs/controller/gs_adcs_wheel.h>\n",
    "\"\"\";"
   ]
  },
  {
   "cell_type": "code",
   "execution_count": null,
   "metadata": {},
   "outputs": [],
   "source": [
    "gnc = Libc.malloc(c\"gs_adcs_config_gnc_t\"(\n",
    "        common=(\n",
    "            inertia=(1,2,3),\n",
    "        )\n",
    "    )\n",
    ")\n",
    "\n",
    "periph = Libc.malloc(c\"gs_adcs_config_periph_t\"())\n",
    "fss = Libc.malloc(c\"gs_adcs_sensor_fss_memory_t\"())\n",
    "\n",
    "conf = Libc.malloc(c\"gs_adcs_config_t\"(\n",
    "        gnc=gnc, periph=periph\n",
    "    )\n",
    ")\n",
    "\n",
    "ephem = Libc.malloc(c\"gs_adcs_ephem_t\"())\n",
    "\n",
    "state_est = Libc.malloc(c\"GS_ADCS_UKF_Data_t\"(\n",
    "        EstimatedState=(\n",
    "            1.0, 0.0, 0.0, 0.0, 0.01, 0.01, 0.01\n",
    "        )\n",
    "    )\n",
    ")\n",
    "\n",
    "act_data = Libc.malloc(c\"gs_adcs_actuatordata_t\"())\n",
    "ctrl = Libc.malloc(c\"gs_adcs_ctrl_t\"(ref_q=(q4=1.0,)))\n",
    "\n",
    "# Get handle to function. \n",
    "# Could also do c\"gs_adcs_wheel_ctrl\"(conf, ephem, state_est, act_data, ctr)\n",
    "smc = c\"gs_adcs_wheel_ctrl\"[] "
   ]
  },
  {
   "cell_type": "code",
   "execution_count": null,
   "metadata": {},
   "outputs": [],
   "source": [
    "smc(conf, ephem, state_est, act_data, ctrl)\n",
    "ctrl[]"
   ]
  },
  {
   "cell_type": "code",
   "execution_count": null,
   "metadata": {},
   "outputs": [],
   "source": [
    "ctrl"
   ]
  },
  {
   "cell_type": "code",
   "execution_count": null,
   "metadata": {},
   "outputs": [],
   "source": [
    "tmp = c\"gs_adcs_ctrl_t\"()"
   ]
  },
  {
   "cell_type": "code",
   "execution_count": null,
   "metadata": {},
   "outputs": [],
   "source": []
  }
 ],
 "metadata": {
  "kernelspec": {
   "display_name": "Julia 1.6.0",
   "language": "julia",
   "name": "julia-1.6"
  },
  "language_info": {
   "file_extension": ".jl",
   "mimetype": "application/julia",
   "name": "julia",
   "version": "1.6.0"
  }
 },
 "nbformat": 4,
 "nbformat_minor": 4
}
