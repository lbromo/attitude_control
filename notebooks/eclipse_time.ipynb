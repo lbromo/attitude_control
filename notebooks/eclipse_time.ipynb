{
 "cells": [
  {
   "cell_type": "code",
   "execution_count": 1,
   "metadata": {},
   "outputs": [],
   "source": [
    "using SatelliteToolbox\n",
    "using Dates"
   ]
  },
  {
   "cell_type": "code",
   "execution_count": 2,
   "metadata": {},
   "outputs": [
    {
     "data": {
      "text/plain": [
       "to_datatime (generic function with 1 method)"
      ]
     },
     "execution_count": 2,
     "metadata": {},
     "output_type": "execute_result"
    }
   ],
   "source": [
    "function to_datatime(jd)\n",
    "    date_tuple = JDtoDate(jd)\n",
    "    \n",
    "    DateTime(\n",
    "        date_tuple[1],\n",
    "        date_tuple[2],\n",
    "        date_tuple[3],\n",
    "        date_tuple[4],\n",
    "        date_tuple[5],\n",
    "        round(date_tuple[6]),\n",
    "    )\n",
    "end"
   ]
  },
  {
   "cell_type": "code",
   "execution_count": 3,
   "metadata": {},
   "outputs": [],
   "source": [
    "tle_str = \"\"\"\n",
    "CUBEL                   \n",
    "1 47448U 21006AM  21104.70471889  .00000294  00000-0  20468-4 0  9997\n",
    "2 47448  97.5032 167.1437 0011425 327.0810  32.9708 15.12771589 12411\n",
    "\"\"\"\n",
    "tle = read_tle_from_string(tle_str)[1]\n",
    "\n",
    "days = 30;"
   ]
  },
  {
   "cell_type": "code",
   "execution_count": 4,
   "metadata": {},
   "outputs": [],
   "source": [
    "orbp = init_orbit_propagator(Val{:J4}, tle)\n",
    "T = 24*60*60 / tle.n\n",
    "\n",
    "_, r, v = propagate!(orbp, 0:T*days);\n",
    "\n",
    "\n",
    "t₁ = tle.epoch\n",
    "t₂ = t₁ + T*days / (24*60*60)\n",
    "r_sun = map(t -> sun_position_i(t), range(t₁, t₂, length=length(1:T*days)));\n",
    "\n",
    "illumination = map(satellite_lighting_condition, r, r_sun);"
   ]
  },
  {
   "cell_type": "code",
   "execution_count": 5,
   "metadata": {},
   "outputs": [
    {
     "name": "stdout",
     "output_type": "stream",
     "text": [
      "EPOCH: 2021-04-14T16:54:48\n",
      "##########\n",
      "From eclipse to sunlight @ 2021-04-14T17:06:48\n",
      "From sunlight to eclipse @ 2021-04-14T18:08:53\n",
      "From eclipse to sunlight @ 2021-04-14T18:42:03\n",
      "From sunlight to eclipse @ 2021-04-14T19:44:08\n",
      "From eclipse to sunlight @ 2021-04-14T20:17:18\n",
      "From sunlight to eclipse @ 2021-04-14T21:19:22\n",
      "From eclipse to sunlight @ 2021-04-14T21:52:32\n",
      "From sunlight to eclipse @ 2021-04-14T22:54:37\n",
      "From eclipse to sunlight @ 2021-04-14T23:27:47\n",
      "From sunlight to eclipse @ 2021-04-15T00:29:51\n",
      "From eclipse to sunlight @ 2021-04-15T01:03:02\n",
      "From sunlight to eclipse @ 2021-04-15T02:05:06\n",
      "From eclipse to sunlight @ 2021-04-15T02:38:16\n",
      "From sunlight to eclipse @ 2021-04-15T03:40:20\n",
      "From eclipse to sunlight @ 2021-04-15T04:13:31\n",
      "From sunlight to eclipse @ 2021-04-15T05:15:35\n",
      "From eclipse to sunlight @ 2021-04-15T05:48:45\n",
      "From sunlight to eclipse @ 2021-04-15T06:50:49\n",
      "From eclipse to sunlight @ 2021-04-15T07:24:00\n",
      "From sunlight to eclipse @ 2021-04-15T08:26:04\n",
      "From eclipse to sunlight @ 2021-04-15T08:59:15\n",
      "From sunlight to eclipse @ 2021-04-15T10:01:19\n",
      "From eclipse to sunlight @ 2021-04-15T10:34:29\n",
      "From sunlight to eclipse @ 2021-04-15T11:36:33\n",
      "From eclipse to sunlight @ 2021-04-15T12:09:44\n",
      "From sunlight to eclipse @ 2021-04-15T13:11:48\n",
      "From eclipse to sunlight @ 2021-04-15T13:44:59\n",
      "From sunlight to eclipse @ 2021-04-15T14:47:02\n",
      "From eclipse to sunlight @ 2021-04-15T15:20:13\n",
      "From sunlight to eclipse @ 2021-04-15T16:22:17\n",
      "From eclipse to sunlight @ 2021-04-15T16:55:28\n",
      "From sunlight to eclipse @ 2021-04-15T17:57:31\n",
      "From eclipse to sunlight @ 2021-04-15T18:30:43\n",
      "From sunlight to eclipse @ 2021-04-15T19:32:46\n",
      "From eclipse to sunlight @ 2021-04-15T20:05:57\n",
      "From sunlight to eclipse @ 2021-04-15T21:08:00\n",
      "From eclipse to sunlight @ 2021-04-15T21:41:12\n",
      "From sunlight to eclipse @ 2021-04-15T22:43:15\n",
      "From eclipse to sunlight @ 2021-04-15T23:16:27\n",
      "From sunlight to eclipse @ 2021-04-16T00:18:29\n",
      "From eclipse to sunlight @ 2021-04-16T00:51:41\n",
      "From sunlight to eclipse @ 2021-04-16T01:53:44\n",
      "From eclipse to sunlight @ 2021-04-16T02:26:56\n",
      "From sunlight to eclipse @ 2021-04-16T03:28:59\n",
      "From eclipse to sunlight @ 2021-04-16T04:02:11\n",
      "From sunlight to eclipse @ 2021-04-16T05:04:13\n",
      "From eclipse to sunlight @ 2021-04-16T05:37:25\n",
      "From sunlight to eclipse @ 2021-04-16T06:39:28\n",
      "From eclipse to sunlight @ 2021-04-16T07:12:40\n",
      "From sunlight to eclipse @ 2021-04-16T08:14:42\n",
      "From eclipse to sunlight @ 2021-04-16T08:47:55\n",
      "From sunlight to eclipse @ 2021-04-16T09:49:57\n",
      "From eclipse to sunlight @ 2021-04-16T10:23:09\n",
      "From sunlight to eclipse @ 2021-04-16T11:25:11\n",
      "From eclipse to sunlight @ 2021-04-16T11:58:24\n",
      "From sunlight to eclipse @ 2021-04-16T13:00:26\n",
      "From eclipse to sunlight @ 2021-04-16T13:33:39\n",
      "From sunlight to eclipse @ 2021-04-16T14:35:40\n",
      "From eclipse to sunlight @ 2021-04-16T15:08:53\n",
      "From sunlight to eclipse @ 2021-04-16T16:10:55\n"
     ]
    }
   ],
   "source": [
    "illumnication_change = findall(v -> abs(v) > 0, diff(illumination))\n",
    "\n",
    "_epoch = to_datatime(tle.epoch)\n",
    "println(\"EPOCH: \", _epoch)\n",
    "println(\"##########\")\n",
    "for c ∈ illumnication_change\n",
    "    \n",
    "    ts = _epoch + Dates.Second(c)\n",
    "    if illumination[c-1] == SAT_LIGHTING_SUNLIGHT\n",
    "       println(\"From sunlight to eclipse @ \", ts) \n",
    "    end\n",
    "    if illumination[c-1] == SAT_LIGHTING_UMBRA\n",
    "       println(\"From eclipse to sunlight @ \", ts) \n",
    "    end\n",
    "end"
   ]
  },
  {
   "cell_type": "code",
   "execution_count": null,
   "metadata": {},
   "outputs": [],
   "source": []
  }
 ],
 "metadata": {
  "kernelspec": {
   "display_name": "Julia 1.6.0",
   "language": "julia",
   "name": "julia-1.6"
  },
  "language_info": {
   "file_extension": ".jl",
   "mimetype": "application/julia",
   "name": "julia",
   "version": "1.6.0"
  }
 },
 "nbformat": 4,
 "nbformat_minor": 4
}
